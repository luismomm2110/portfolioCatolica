{
 "cells": [
  {
   "cell_type": "code",
   "execution_count": 1,
   "id": "initial_id",
   "metadata": {
    "collapsed": true,
    "ExecuteTime": {
     "end_time": "2023-10-29T14:37:40.680163Z",
     "start_time": "2023-10-29T14:37:40.319007Z"
    }
   },
   "outputs": [],
   "source": [
    "import pandas as pd"
   ]
  },
  {
   "cell_type": "code",
   "execution_count": 2,
   "outputs": [],
   "source": [
    "df = pd.read_csv('iata.csv')"
   ],
   "metadata": {
    "collapsed": false,
    "ExecuteTime": {
     "end_time": "2023-10-29T14:37:52.360240Z",
     "start_time": "2023-10-29T14:37:52.232700Z"
    }
   },
   "id": "63abea33529c89c0"
  },
  {
   "cell_type": "code",
   "execution_count": 3,
   "outputs": [
    {
     "data": {
      "text/plain": "   Unnamed: 0 ident           type                     name  elevation_ft   \n0         223   03N  small_airport           Utirik Airport           4.0  \\\n1         440  07FA  small_airport  Ocean Reef Club Airport           8.0   \n2         594   0AK  small_airport    Pilot Station Airport         305.0   \n3         673  0CO2  small_airport    Crested Butte Airpark        8980.0   \n4        1088  0TE7  small_airport        LBJ Ranch Airport        1515.0   \n\n  continent iso_country iso_region   municipality gps_code iata_code   \n0        OC          MH     MH-UTI  Utirik Island     K03N       UTK  \\\n1       NaN          US      US-FL      Key Largo     07FA       OCA   \n2       NaN          US      US-AK  Pilot Station      NaN       PQS   \n3       NaN          US      US-CO  Crested Butte     0CO2       CSE   \n4       NaN          US      US-TX   Johnson City     0TE7       JCY   \n\n  local_code                             coordinates  \n0        03N                      11.222, 169.852005  \n1       07FA       25.325399398804, -80.274803161621  \n2        0AK                  61.934601, -162.899994  \n3       0CO2                  38.851918, -106.928341  \n4       0TE7  30.251800537100003, -98.62249755859999  ",
      "text/html": "<div>\n<style scoped>\n    .dataframe tbody tr th:only-of-type {\n        vertical-align: middle;\n    }\n\n    .dataframe tbody tr th {\n        vertical-align: top;\n    }\n\n    .dataframe thead th {\n        text-align: right;\n    }\n</style>\n<table border=\"1\" class=\"dataframe\">\n  <thead>\n    <tr style=\"text-align: right;\">\n      <th></th>\n      <th>Unnamed: 0</th>\n      <th>ident</th>\n      <th>type</th>\n      <th>name</th>\n      <th>elevation_ft</th>\n      <th>continent</th>\n      <th>iso_country</th>\n      <th>iso_region</th>\n      <th>municipality</th>\n      <th>gps_code</th>\n      <th>iata_code</th>\n      <th>local_code</th>\n      <th>coordinates</th>\n    </tr>\n  </thead>\n  <tbody>\n    <tr>\n      <th>0</th>\n      <td>223</td>\n      <td>03N</td>\n      <td>small_airport</td>\n      <td>Utirik Airport</td>\n      <td>4.0</td>\n      <td>OC</td>\n      <td>MH</td>\n      <td>MH-UTI</td>\n      <td>Utirik Island</td>\n      <td>K03N</td>\n      <td>UTK</td>\n      <td>03N</td>\n      <td>11.222, 169.852005</td>\n    </tr>\n    <tr>\n      <th>1</th>\n      <td>440</td>\n      <td>07FA</td>\n      <td>small_airport</td>\n      <td>Ocean Reef Club Airport</td>\n      <td>8.0</td>\n      <td>NaN</td>\n      <td>US</td>\n      <td>US-FL</td>\n      <td>Key Largo</td>\n      <td>07FA</td>\n      <td>OCA</td>\n      <td>07FA</td>\n      <td>25.325399398804, -80.274803161621</td>\n    </tr>\n    <tr>\n      <th>2</th>\n      <td>594</td>\n      <td>0AK</td>\n      <td>small_airport</td>\n      <td>Pilot Station Airport</td>\n      <td>305.0</td>\n      <td>NaN</td>\n      <td>US</td>\n      <td>US-AK</td>\n      <td>Pilot Station</td>\n      <td>NaN</td>\n      <td>PQS</td>\n      <td>0AK</td>\n      <td>61.934601, -162.899994</td>\n    </tr>\n    <tr>\n      <th>3</th>\n      <td>673</td>\n      <td>0CO2</td>\n      <td>small_airport</td>\n      <td>Crested Butte Airpark</td>\n      <td>8980.0</td>\n      <td>NaN</td>\n      <td>US</td>\n      <td>US-CO</td>\n      <td>Crested Butte</td>\n      <td>0CO2</td>\n      <td>CSE</td>\n      <td>0CO2</td>\n      <td>38.851918, -106.928341</td>\n    </tr>\n    <tr>\n      <th>4</th>\n      <td>1088</td>\n      <td>0TE7</td>\n      <td>small_airport</td>\n      <td>LBJ Ranch Airport</td>\n      <td>1515.0</td>\n      <td>NaN</td>\n      <td>US</td>\n      <td>US-TX</td>\n      <td>Johnson City</td>\n      <td>0TE7</td>\n      <td>JCY</td>\n      <td>0TE7</td>\n      <td>30.251800537100003, -98.62249755859999</td>\n    </tr>\n  </tbody>\n</table>\n</div>"
     },
     "execution_count": 3,
     "metadata": {},
     "output_type": "execute_result"
    }
   ],
   "source": [
    "df.head()"
   ],
   "metadata": {
    "collapsed": false,
    "ExecuteTime": {
     "end_time": "2023-10-29T14:37:54.624901Z",
     "start_time": "2023-10-29T14:37:54.558816Z"
    }
   },
   "id": "628e2daf8a1ac5a2"
  },
  {
   "cell_type": "code",
   "execution_count": 6,
   "outputs": [
    {
     "data": {
      "text/plain": "{'closed',\n 'heliport',\n 'large_airport',\n 'medium_airport',\n 'seaplane_base',\n 'small_airport'}"
     },
     "execution_count": 6,
     "metadata": {},
     "output_type": "execute_result"
    }
   ],
   "source": [
    "set(df['type'].unique())"
   ],
   "metadata": {
    "collapsed": false,
    "ExecuteTime": {
     "end_time": "2023-10-29T14:40:28.364763Z",
     "start_time": "2023-10-29T14:40:28.360952Z"
    }
   },
   "id": "f0ab08c5d98f704a"
  },
  {
   "cell_type": "code",
   "execution_count": 9,
   "outputs": [],
   "source": [
    "filtered_df = df[df['type'].isin(['medium_airport', 'large_airport'])]\n"
   ],
   "metadata": {
    "collapsed": false,
    "ExecuteTime": {
     "end_time": "2023-10-29T14:43:16.482789Z",
     "start_time": "2023-10-29T14:43:16.477890Z"
    }
   },
   "id": "d3f5c78cf355273"
  },
  {
   "cell_type": "code",
   "execution_count": 14,
   "outputs": [],
   "source": [
    "## Keep only the columns we need\n",
    "\n",
    "filtered_df = filtered_df[['name', 'coordinates', 'type', 'iso_country', 'municipality', 'iata_code']]\n"
   ],
   "metadata": {
    "collapsed": false,
    "ExecuteTime": {
     "end_time": "2023-10-29T16:18:44.565292Z",
     "start_time": "2023-10-29T16:18:44.564729Z"
    }
   },
   "id": "835dec637ba1d7ec"
  },
  {
   "cell_type": "code",
   "execution_count": 16,
   "outputs": [],
   "source": [
    "## Write to csv\n",
    "\n",
    "filtered_df.to_csv('iata_filtered.csv', index=False)"
   ],
   "metadata": {
    "collapsed": false,
    "ExecuteTime": {
     "end_time": "2023-10-29T16:19:04.628323Z",
     "start_time": "2023-10-29T16:19:04.608948Z"
    }
   },
   "id": "2eaf3e98ea9a0ecf"
  },
  {
   "cell_type": "markdown",
   "source": [],
   "metadata": {
    "collapsed": false
   },
   "id": "bf9db0a214185aac"
  },
  {
   "cell_type": "code",
   "execution_count": 15,
   "outputs": [],
   "source": [],
   "metadata": {
    "collapsed": false,
    "ExecuteTime": {
     "end_time": "2023-10-29T16:18:52.938141Z",
     "start_time": "2023-10-29T16:18:52.933374Z"
    }
   },
   "id": "5b9b058073e33c12"
  },
  {
   "cell_type": "code",
   "execution_count": null,
   "outputs": [],
   "source": [],
   "metadata": {
    "collapsed": false
   },
   "id": "ed9fc1797aecb55a"
  }
 ],
 "metadata": {
  "kernelspec": {
   "display_name": "Python 3",
   "language": "python",
   "name": "python3"
  },
  "language_info": {
   "codemirror_mode": {
    "name": "ipython",
    "version": 2
   },
   "file_extension": ".py",
   "mimetype": "text/x-python",
   "name": "python",
   "nbconvert_exporter": "python",
   "pygments_lexer": "ipython2",
   "version": "2.7.6"
  }
 },
 "nbformat": 4,
 "nbformat_minor": 5
}
