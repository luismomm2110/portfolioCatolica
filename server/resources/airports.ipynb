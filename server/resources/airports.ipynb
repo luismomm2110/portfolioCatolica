{
 "cells": [
  {
   "cell_type": "code",
   "execution_count": 25,
   "id": "initial_id",
   "metadata": {
    "collapsed": true,
    "ExecuteTime": {
     "end_time": "2023-11-21T23:35:45.481697Z",
     "start_time": "2023-11-21T23:35:45.472855Z"
    }
   },
   "outputs": [],
   "source": [
    "import pandas as pd"
   ]
  },
  {
   "cell_type": "code",
   "execution_count": 26,
   "outputs": [],
   "source": [
    "df = pd.read_csv('iata.csv')"
   ],
   "metadata": {
    "collapsed": false,
    "ExecuteTime": {
     "end_time": "2023-11-21T23:35:46.174204Z",
     "start_time": "2023-11-21T23:35:46.150594Z"
    }
   },
   "id": "63abea33529c89c0"
  },
  {
   "cell_type": "code",
   "execution_count": 27,
   "outputs": [
    {
     "data": {
      "text/plain": "                                name                        coordinates   \n0            Aleknagik / New Airport      59.2826004028, -158.617996216  \\\n1      Honiara International Airport  -9.4280004501343, 160.05499267578   \n2                   Hongyuan Airport                32.53154, 102.35224   \n3        Nauru International Airport              -0.547458, 166.919006   \n4  Alxa Left Banner Bayanhot Airport                38.74831, 105.58858   \n\n             type iso_country    municipality iata_code  \n0  medium_airport          US       Aleknagik       WKK  \n1  medium_airport          SB         Honiara       HIR  \n2  medium_airport          CN             Aba       AHJ  \n3  medium_airport          NR  Yaren District       INU  \n4  medium_airport          CN        Bayanhot       AXF  ",
      "text/html": "<div>\n<style scoped>\n    .dataframe tbody tr th:only-of-type {\n        vertical-align: middle;\n    }\n\n    .dataframe tbody tr th {\n        vertical-align: top;\n    }\n\n    .dataframe thead th {\n        text-align: right;\n    }\n</style>\n<table border=\"1\" class=\"dataframe\">\n  <thead>\n    <tr style=\"text-align: right;\">\n      <th></th>\n      <th>name</th>\n      <th>coordinates</th>\n      <th>type</th>\n      <th>iso_country</th>\n      <th>municipality</th>\n      <th>iata_code</th>\n    </tr>\n  </thead>\n  <tbody>\n    <tr>\n      <th>0</th>\n      <td>Aleknagik / New Airport</td>\n      <td>59.2826004028, -158.617996216</td>\n      <td>medium_airport</td>\n      <td>US</td>\n      <td>Aleknagik</td>\n      <td>WKK</td>\n    </tr>\n    <tr>\n      <th>1</th>\n      <td>Honiara International Airport</td>\n      <td>-9.4280004501343, 160.05499267578</td>\n      <td>medium_airport</td>\n      <td>SB</td>\n      <td>Honiara</td>\n      <td>HIR</td>\n    </tr>\n    <tr>\n      <th>2</th>\n      <td>Hongyuan Airport</td>\n      <td>32.53154, 102.35224</td>\n      <td>medium_airport</td>\n      <td>CN</td>\n      <td>Aba</td>\n      <td>AHJ</td>\n    </tr>\n    <tr>\n      <th>3</th>\n      <td>Nauru International Airport</td>\n      <td>-0.547458, 166.919006</td>\n      <td>medium_airport</td>\n      <td>NR</td>\n      <td>Yaren District</td>\n      <td>INU</td>\n    </tr>\n    <tr>\n      <th>4</th>\n      <td>Alxa Left Banner Bayanhot Airport</td>\n      <td>38.74831, 105.58858</td>\n      <td>medium_airport</td>\n      <td>CN</td>\n      <td>Bayanhot</td>\n      <td>AXF</td>\n    </tr>\n  </tbody>\n</table>\n</div>"
     },
     "execution_count": 27,
     "metadata": {},
     "output_type": "execute_result"
    }
   ],
   "source": [
    "df.head()"
   ],
   "metadata": {
    "collapsed": false,
    "ExecuteTime": {
     "end_time": "2023-11-21T23:35:46.832203Z",
     "start_time": "2023-11-21T23:35:46.822957Z"
    }
   },
   "id": "628e2daf8a1ac5a2"
  },
  {
   "cell_type": "code",
   "execution_count": 28,
   "outputs": [
    {
     "data": {
      "text/plain": "{'large_airport', 'medium_airport'}"
     },
     "execution_count": 28,
     "metadata": {},
     "output_type": "execute_result"
    }
   ],
   "source": [
    "set(df['type'].unique())"
   ],
   "metadata": {
    "collapsed": false,
    "ExecuteTime": {
     "end_time": "2023-11-21T23:35:47.572251Z",
     "start_time": "2023-11-21T23:35:47.570420Z"
    }
   },
   "id": "f0ab08c5d98f704a"
  },
  {
   "cell_type": "code",
   "execution_count": 29,
   "outputs": [],
   "source": [
    "filtered_df = df[df['type'].isin(['medium_airport', 'large_airport'])]\n"
   ],
   "metadata": {
    "collapsed": false,
    "ExecuteTime": {
     "end_time": "2023-11-21T23:35:48.512385Z",
     "start_time": "2023-11-21T23:35:48.509208Z"
    }
   },
   "id": "d3f5c78cf355273"
  },
  {
   "cell_type": "code",
   "execution_count": 30,
   "outputs": [],
   "source": [
    "## Keep only the columns we need\n",
    "\n",
    "filtered_df = filtered_df[['name', 'coordinates', 'type', 'iso_country', 'municipality', 'iata_code']]\n"
   ],
   "metadata": {
    "collapsed": false,
    "ExecuteTime": {
     "end_time": "2023-11-21T23:35:49.126978Z",
     "start_time": "2023-11-21T23:35:49.122765Z"
    }
   },
   "id": "835dec637ba1d7ec"
  },
  {
   "cell_type": "code",
   "execution_count": 31,
   "outputs": [],
   "source": [
    "## Drop rows with missing values\n",
    "\n",
    "filtered_df = filtered_df.dropna()"
   ],
   "metadata": {
    "collapsed": false,
    "ExecuteTime": {
     "end_time": "2023-11-21T23:35:49.913755Z",
     "start_time": "2023-11-21T23:35:49.909772Z"
    }
   },
   "id": "7789e36dcd88a001"
  },
  {
   "cell_type": "code",
   "execution_count": 32,
   "outputs": [],
   "source": [
    "## Remove all with no iata code or iata code === 0\n",
    "\n",
    "filtered_df = filtered_df[filtered_df['iata_code'] != '\\\\N']\n",
    "filtered_df = filtered_df[filtered_df['iata_code'] != '0']\n",
    "\n"
   ],
   "metadata": {
    "collapsed": false,
    "ExecuteTime": {
     "end_time": "2023-11-21T23:35:50.545373Z",
     "start_time": "2023-11-21T23:35:50.543069Z"
    }
   },
   "id": "393f5000f63d881b"
  },
  {
   "cell_type": "code",
   "execution_count": 33,
   "outputs": [],
   "source": [
    "## Remove all duplicates\n",
    "\n",
    "filtered_df = filtered_df.drop_duplicates(subset=['iata_code'])"
   ],
   "metadata": {
    "collapsed": false,
    "ExecuteTime": {
     "end_time": "2023-11-21T23:35:51.338913Z",
     "start_time": "2023-11-21T23:35:51.333553Z"
    }
   },
   "id": "caa5e03a874f7353"
  },
  {
   "cell_type": "code",
   "execution_count": 34,
   "outputs": [
    {
     "data": {
      "text/plain": "                                   name   \n0               Aleknagik / New Airport  \\\n1         Honiara International Airport   \n2                      Hongyuan Airport   \n3           Nauru International Airport   \n4     Alxa Left Banner Bayanhot Airport   \n...                                 ...   \n4073                 Zhoushuizi Airport   \n4074          Tonghua Sanyuanpu Airport   \n4075                    Taoxian Airport   \n4076        Yanji Chaoyangchuan Airport   \n4077              Yingkou Lanqi Airport   \n\n                                 coordinates            type iso_country   \n0              59.2826004028, -158.617996216  medium_airport          US  \\\n1          -9.4280004501343, 160.05499267578  medium_airport          SB   \n2                        32.53154, 102.35224  medium_airport          CN   \n3                      -0.547458, 166.919006  medium_airport          NR   \n4                        38.74831, 105.58858  medium_airport          CN   \n...                                      ...             ...         ...   \n4073    38.9656982421875, 121.53900146484375   large_airport          CN   \n4074            42.2538888889, 125.703333333  medium_airport          CN   \n4075  41.639801025390625, 123.48300170898438   large_airport          CN   \n4076            42.8828010559, 129.451004028  medium_airport          CN   \n4077                     40.542524, 122.3586  medium_airport          CN   \n\n        municipality iata_code  \n0          Aleknagik       WKK  \n1            Honiara       HIR  \n2                Aba       AHJ  \n3     Yaren District       INU  \n4           Bayanhot       AXF  \n...              ...       ...  \n4073          Dalian       DLC  \n4074         Tonghua       TNH  \n4075        Shenyang       SHE  \n4076           Yanji       YNJ  \n4077         Yingkou       YKH  \n\n[4078 rows x 6 columns]",
      "text/html": "<div>\n<style scoped>\n    .dataframe tbody tr th:only-of-type {\n        vertical-align: middle;\n    }\n\n    .dataframe tbody tr th {\n        vertical-align: top;\n    }\n\n    .dataframe thead th {\n        text-align: right;\n    }\n</style>\n<table border=\"1\" class=\"dataframe\">\n  <thead>\n    <tr style=\"text-align: right;\">\n      <th></th>\n      <th>name</th>\n      <th>coordinates</th>\n      <th>type</th>\n      <th>iso_country</th>\n      <th>municipality</th>\n      <th>iata_code</th>\n    </tr>\n  </thead>\n  <tbody>\n    <tr>\n      <th>0</th>\n      <td>Aleknagik / New Airport</td>\n      <td>59.2826004028, -158.617996216</td>\n      <td>medium_airport</td>\n      <td>US</td>\n      <td>Aleknagik</td>\n      <td>WKK</td>\n    </tr>\n    <tr>\n      <th>1</th>\n      <td>Honiara International Airport</td>\n      <td>-9.4280004501343, 160.05499267578</td>\n      <td>medium_airport</td>\n      <td>SB</td>\n      <td>Honiara</td>\n      <td>HIR</td>\n    </tr>\n    <tr>\n      <th>2</th>\n      <td>Hongyuan Airport</td>\n      <td>32.53154, 102.35224</td>\n      <td>medium_airport</td>\n      <td>CN</td>\n      <td>Aba</td>\n      <td>AHJ</td>\n    </tr>\n    <tr>\n      <th>3</th>\n      <td>Nauru International Airport</td>\n      <td>-0.547458, 166.919006</td>\n      <td>medium_airport</td>\n      <td>NR</td>\n      <td>Yaren District</td>\n      <td>INU</td>\n    </tr>\n    <tr>\n      <th>4</th>\n      <td>Alxa Left Banner Bayanhot Airport</td>\n      <td>38.74831, 105.58858</td>\n      <td>medium_airport</td>\n      <td>CN</td>\n      <td>Bayanhot</td>\n      <td>AXF</td>\n    </tr>\n    <tr>\n      <th>...</th>\n      <td>...</td>\n      <td>...</td>\n      <td>...</td>\n      <td>...</td>\n      <td>...</td>\n      <td>...</td>\n    </tr>\n    <tr>\n      <th>4073</th>\n      <td>Zhoushuizi Airport</td>\n      <td>38.9656982421875, 121.53900146484375</td>\n      <td>large_airport</td>\n      <td>CN</td>\n      <td>Dalian</td>\n      <td>DLC</td>\n    </tr>\n    <tr>\n      <th>4074</th>\n      <td>Tonghua Sanyuanpu Airport</td>\n      <td>42.2538888889, 125.703333333</td>\n      <td>medium_airport</td>\n      <td>CN</td>\n      <td>Tonghua</td>\n      <td>TNH</td>\n    </tr>\n    <tr>\n      <th>4075</th>\n      <td>Taoxian Airport</td>\n      <td>41.639801025390625, 123.48300170898438</td>\n      <td>large_airport</td>\n      <td>CN</td>\n      <td>Shenyang</td>\n      <td>SHE</td>\n    </tr>\n    <tr>\n      <th>4076</th>\n      <td>Yanji Chaoyangchuan Airport</td>\n      <td>42.8828010559, 129.451004028</td>\n      <td>medium_airport</td>\n      <td>CN</td>\n      <td>Yanji</td>\n      <td>YNJ</td>\n    </tr>\n    <tr>\n      <th>4077</th>\n      <td>Yingkou Lanqi Airport</td>\n      <td>40.542524, 122.3586</td>\n      <td>medium_airport</td>\n      <td>CN</td>\n      <td>Yingkou</td>\n      <td>YKH</td>\n    </tr>\n  </tbody>\n</table>\n<p>4078 rows × 6 columns</p>\n</div>"
     },
     "execution_count": 34,
     "metadata": {},
     "output_type": "execute_result"
    }
   ],
   "source": [
    "filtered_df\n"
   ],
   "metadata": {
    "collapsed": false,
    "ExecuteTime": {
     "end_time": "2023-11-21T23:35:52.032197Z",
     "start_time": "2023-11-21T23:35:52.001569Z"
    }
   },
   "id": "603045ad02f48757"
  },
  {
   "cell_type": "code",
   "execution_count": 35,
   "outputs": [],
   "source": [
    "# Remove all medium airports except where municipality is Joinville, Florianopolis or Navegantes\n",
    "\n",
    "filtered_df = filtered_df[~((filtered_df['type'] == 'medium_airport') & (~filtered_df['municipality'].isin(['Joinville', 'Florianopolis', 'Navegantes'])))]"
   ],
   "metadata": {
    "collapsed": false,
    "ExecuteTime": {
     "end_time": "2023-11-21T23:35:55.464268Z",
     "start_time": "2023-11-21T23:35:55.456840Z"
    }
   },
   "id": "ef8c32285b457dd5"
  },
  {
   "cell_type": "code",
   "execution_count": 36,
   "outputs": [],
   "source": [
    "## Write to csv\n",
    "\n",
    "filtered_df.to_csv('iata.csv', index=False)"
   ],
   "metadata": {
    "collapsed": false,
    "ExecuteTime": {
     "end_time": "2023-11-21T23:35:56.824136Z",
     "start_time": "2023-11-21T23:35:56.818844Z"
    }
   },
   "id": "2eaf3e98ea9a0ecf"
  },
  {
   "cell_type": "markdown",
   "source": [],
   "metadata": {
    "collapsed": false
   },
   "id": "bf9db0a214185aac"
  },
  {
   "cell_type": "code",
   "execution_count": 8,
   "outputs": [],
   "source": [],
   "metadata": {
    "collapsed": false,
    "ExecuteTime": {
     "end_time": "2023-11-06T23:11:14.314727Z",
     "start_time": "2023-11-06T23:11:14.250897Z"
    }
   },
   "id": "5b9b058073e33c12"
  },
  {
   "cell_type": "code",
   "execution_count": 8,
   "outputs": [],
   "source": [],
   "metadata": {
    "collapsed": false,
    "ExecuteTime": {
     "end_time": "2023-11-06T23:11:14.315006Z",
     "start_time": "2023-11-06T23:11:14.255516Z"
    }
   },
   "id": "ed9fc1797aecb55a"
  }
 ],
 "metadata": {
  "kernelspec": {
   "display_name": "Python 3",
   "language": "python",
   "name": "python3"
  },
  "language_info": {
   "codemirror_mode": {
    "name": "ipython",
    "version": 2
   },
   "file_extension": ".py",
   "mimetype": "text/x-python",
   "name": "python",
   "nbconvert_exporter": "python",
   "pygments_lexer": "ipython2",
   "version": "2.7.6"
  }
 },
 "nbformat": 4,
 "nbformat_minor": 5
}
