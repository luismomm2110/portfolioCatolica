{
 "cells": [
  {
   "cell_type": "code",
   "execution_count": 1,
   "id": "initial_id",
   "metadata": {
    "collapsed": true,
    "ExecuteTime": {
     "end_time": "2023-11-06T23:11:14.179251Z",
     "start_time": "2023-11-06T23:11:13.792969Z"
    }
   },
   "outputs": [],
   "source": [
    "import pandas as pd"
   ]
  },
  {
   "cell_type": "code",
   "execution_count": 2,
   "outputs": [],
   "source": [
    "df = pd.read_csv('iata.csv')"
   ],
   "metadata": {
    "collapsed": false,
    "ExecuteTime": {
     "end_time": "2023-11-06T23:11:14.190679Z",
     "start_time": "2023-11-06T23:11:14.180065Z"
    }
   },
   "id": "63abea33529c89c0"
  },
  {
   "cell_type": "code",
   "execution_count": 3,
   "outputs": [
    {
     "data": {
      "text/plain": "                            name                             coordinates   \n0        Aleknagik / New Airport           59.2826004028, -158.617996216  \\\n1  Honiara International Airport       -9.4280004501343, 160.05499267578   \n2                  Munda Airport  -8.327969551086426, 157.26300048828125   \n3               Hongyuan Airport                     32.53154, 102.35224   \n4    Nauru International Airport                   -0.547458, 166.919006   \n\n             type iso_country    municipality iata_code  \n0  medium_airport          US       Aleknagik       WKK  \n1  medium_airport          SB         Honiara       HIR  \n2  medium_airport          SB             NaN       MUA  \n3  medium_airport          CN             Aba       AHJ  \n4  medium_airport          NR  Yaren District       INU  ",
      "text/html": "<div>\n<style scoped>\n    .dataframe tbody tr th:only-of-type {\n        vertical-align: middle;\n    }\n\n    .dataframe tbody tr th {\n        vertical-align: top;\n    }\n\n    .dataframe thead th {\n        text-align: right;\n    }\n</style>\n<table border=\"1\" class=\"dataframe\">\n  <thead>\n    <tr style=\"text-align: right;\">\n      <th></th>\n      <th>name</th>\n      <th>coordinates</th>\n      <th>type</th>\n      <th>iso_country</th>\n      <th>municipality</th>\n      <th>iata_code</th>\n    </tr>\n  </thead>\n  <tbody>\n    <tr>\n      <th>0</th>\n      <td>Aleknagik / New Airport</td>\n      <td>59.2826004028, -158.617996216</td>\n      <td>medium_airport</td>\n      <td>US</td>\n      <td>Aleknagik</td>\n      <td>WKK</td>\n    </tr>\n    <tr>\n      <th>1</th>\n      <td>Honiara International Airport</td>\n      <td>-9.4280004501343, 160.05499267578</td>\n      <td>medium_airport</td>\n      <td>SB</td>\n      <td>Honiara</td>\n      <td>HIR</td>\n    </tr>\n    <tr>\n      <th>2</th>\n      <td>Munda Airport</td>\n      <td>-8.327969551086426, 157.26300048828125</td>\n      <td>medium_airport</td>\n      <td>SB</td>\n      <td>NaN</td>\n      <td>MUA</td>\n    </tr>\n    <tr>\n      <th>3</th>\n      <td>Hongyuan Airport</td>\n      <td>32.53154, 102.35224</td>\n      <td>medium_airport</td>\n      <td>CN</td>\n      <td>Aba</td>\n      <td>AHJ</td>\n    </tr>\n    <tr>\n      <th>4</th>\n      <td>Nauru International Airport</td>\n      <td>-0.547458, 166.919006</td>\n      <td>medium_airport</td>\n      <td>NR</td>\n      <td>Yaren District</td>\n      <td>INU</td>\n    </tr>\n  </tbody>\n</table>\n</div>"
     },
     "execution_count": 3,
     "metadata": {},
     "output_type": "execute_result"
    }
   ],
   "source": [
    "df.head()"
   ],
   "metadata": {
    "collapsed": false,
    "ExecuteTime": {
     "end_time": "2023-11-06T23:11:14.203977Z",
     "start_time": "2023-11-06T23:11:14.195742Z"
    }
   },
   "id": "628e2daf8a1ac5a2"
  },
  {
   "cell_type": "code",
   "execution_count": 4,
   "outputs": [
    {
     "data": {
      "text/plain": "{'large_airport', 'medium_airport'}"
     },
     "execution_count": 4,
     "metadata": {},
     "output_type": "execute_result"
    }
   ],
   "source": [
    "set(df['type'].unique())"
   ],
   "metadata": {
    "collapsed": false,
    "ExecuteTime": {
     "end_time": "2023-11-06T23:11:14.215075Z",
     "start_time": "2023-11-06T23:11:14.206696Z"
    }
   },
   "id": "f0ab08c5d98f704a"
  },
  {
   "cell_type": "code",
   "execution_count": 5,
   "outputs": [],
   "source": [
    "filtered_df = df[df['type'].isin(['medium_airport', 'large_airport'])]\n"
   ],
   "metadata": {
    "collapsed": false,
    "ExecuteTime": {
     "end_time": "2023-11-06T23:11:14.220796Z",
     "start_time": "2023-11-06T23:11:14.218464Z"
    }
   },
   "id": "d3f5c78cf355273"
  },
  {
   "cell_type": "code",
   "execution_count": 6,
   "outputs": [],
   "source": [
    "## Keep only the columns we need\n",
    "\n",
    "filtered_df = filtered_df[['name', 'coordinates', 'type', 'iso_country', 'municipality', 'iata_code']]\n"
   ],
   "metadata": {
    "collapsed": false,
    "ExecuteTime": {
     "end_time": "2023-11-06T23:11:14.239598Z",
     "start_time": "2023-11-06T23:11:14.224587Z"
    }
   },
   "id": "835dec637ba1d7ec"
  },
  {
   "cell_type": "code",
   "execution_count": 7,
   "outputs": [],
   "source": [
    "## Drop rows with missing values\n",
    "\n",
    "filtered_df = filtered_df.dropna()"
   ],
   "metadata": {
    "collapsed": false,
    "ExecuteTime": {
     "end_time": "2023-11-06T23:11:14.263036Z",
     "start_time": "2023-11-06T23:11:14.232953Z"
    }
   },
   "id": "7789e36dcd88a001"
  },
  {
   "cell_type": "code",
   "execution_count": 8,
   "outputs": [],
   "source": [
    "## Write to csv\n",
    "\n",
    "filtered_df.to_csv('iata.csv', index=False)"
   ],
   "metadata": {
    "collapsed": false,
    "ExecuteTime": {
     "end_time": "2023-11-06T23:11:14.304612Z",
     "start_time": "2023-11-06T23:11:14.237043Z"
    }
   },
   "id": "2eaf3e98ea9a0ecf"
  },
  {
   "cell_type": "markdown",
   "source": [],
   "metadata": {
    "collapsed": false
   },
   "id": "bf9db0a214185aac"
  },
  {
   "cell_type": "code",
   "execution_count": 8,
   "outputs": [],
   "source": [],
   "metadata": {
    "collapsed": false,
    "ExecuteTime": {
     "end_time": "2023-11-06T23:11:14.314727Z",
     "start_time": "2023-11-06T23:11:14.250897Z"
    }
   },
   "id": "5b9b058073e33c12"
  },
  {
   "cell_type": "code",
   "execution_count": 8,
   "outputs": [],
   "source": [],
   "metadata": {
    "collapsed": false,
    "ExecuteTime": {
     "end_time": "2023-11-06T23:11:14.315006Z",
     "start_time": "2023-11-06T23:11:14.255516Z"
    }
   },
   "id": "ed9fc1797aecb55a"
  }
 ],
 "metadata": {
  "kernelspec": {
   "display_name": "Python 3",
   "language": "python",
   "name": "python3"
  },
  "language_info": {
   "codemirror_mode": {
    "name": "ipython",
    "version": 2
   },
   "file_extension": ".py",
   "mimetype": "text/x-python",
   "name": "python",
   "nbconvert_exporter": "python",
   "pygments_lexer": "ipython2",
   "version": "2.7.6"
  }
 },
 "nbformat": 4,
 "nbformat_minor": 5
}
